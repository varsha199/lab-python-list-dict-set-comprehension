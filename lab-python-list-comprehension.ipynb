{
 "cells": [
  {
   "cell_type": "markdown",
   "id": "25d7736c-ba17-4aff-b6bb-66eba20fbf4e",
   "metadata": {},
   "source": [
    "# Lab | List, Dict and Set Comprehension"
   ]
  },
  {
   "cell_type": "markdown",
   "id": "7dd3cbde-675a-4b81-92c3-f728846dbe06",
   "metadata": {},
   "source": [
    "## Exercise: Managing Customer Orders Optimized with Comprehension"
   ]
  },
  {
   "cell_type": "markdown",
   "id": "5d500160-2fb7-4777-b5e4-09d45ebaf328",
   "metadata": {},
   "source": [
    "In the previous exercise, you developed a program to manage customer orders and inventory. Now, let's take it a step further and incorporate comprehension into your code.\n",
    "\n",
    "Follow the steps below to complete the exercise:\n",
    "\n",
    "1. Review your code from the previous exercise and identify areas where you can apply comprehension to simplify and streamline your code. \n",
    "\n",
    "    - *Hint: Apply it to initialize inventory, updating the inventory and printing the updated inventory.*\n",
    "    \n",
    "    - For example, in initializing the inventory, we could have:\n",
    "    \n",
    "        ```python\n",
    "        def initialize_inventory(products):\n",
    "            inventory = {product: int(input(f\"Enter the quantity of {product}s available: \")) for product in products}\n",
    "            return inventory\n",
    "\n",
    "        ```\n",
    "<br>\n",
    "    \n",
    "    \n",
    "2. Modify the function get_customer_orders so it prompts the user to enter the number of customer orders and gathers the product names using a loop and user input. Use comprehension.\n",
    "\n",
    "3. Add a new function to calculate the total price of the customer order. For each product in customer_orders, prompt the user to enter the price of that product. Use comprehension to calculate the total price. Note: assume that the user can only have 1 unit of each product.\n",
    "\n",
    "4. Modify the update_inventory function to remove the product from the inventory if its quantity becomes zero after fulfilling the customer orders. Use comprehension to filter out the products with a quantity of zero from the inventory.\n",
    "\n",
    "5. Print the total price of the customer order.\n",
    "\n",
    "Your code should produce output similar to the following:\n",
    "\n",
    "```python\n",
    "Enter the quantity of t-shirts available:  5\n",
    "Enter the quantity of mugs available:  4\n",
    "Enter the quantity of hats available:  3\n",
    "Enter the quantity of books available:  2\n",
    "Enter the quantity of keychains available:  1\n",
    "Enter the number of customer orders:  2\n",
    "Enter the name of a product that a customer wants to order:  hat\n",
    "Enter the name of a product that a customer wants to order:  keychain\n",
    "\n",
    "Order Statistics:\n",
    "Total Products Ordered: 2\n",
    "Percentage of Unique Products Ordered: 40.0\n",
    "\n",
    "Updated Inventory:\n",
    "t-shirt: 5\n",
    "mug: 4\n",
    "hat: 2\n",
    "book: 2\n",
    "Enter the price of keychain:  5\n",
    "Enter the price of hat:  10\n",
    "Total Price: 15.0\n",
    "\n",
    "```\n"
   ]
  },
  {
   "cell_type": "code",
   "execution_count": 44,
   "id": "0a0a0b3b",
   "metadata": {},
   "outputs": [],
   "source": [
    "def initialize_inventory(products):\n",
    "    inventory_dictionary = {product:int(input(f\"Enter the quantity of the {product} available: \")) for product in products }\n",
    "    return inventory_dictionary"
   ]
  },
  {
   "cell_type": "code",
   "execution_count": 45,
   "id": "34587128",
   "metadata": {},
   "outputs": [
    {
     "name": "stdout",
     "output_type": "stream",
     "text": [
      "{'t-shirts': 1, 'mugs': 2, 'hats': 3, 'books': 3, 'keychains': 4}\n"
     ]
    }
   ],
   "source": [
    "products = [\"t-shirts\", \"mugs\", \"hats\", \"books\",\"keychains\" ]\n",
    "inventory = initialize_inventory(products)\n",
    "print(inventory)"
   ]
  },
  {
   "cell_type": "code",
   "execution_count": 46,
   "id": "527a0009",
   "metadata": {},
   "outputs": [],
   "source": [
    "def get_customer_orders() -> set:\n",
    "    customer_orders = set()\n",
    "    add_more_product = True\n",
    "    while add_more_product:\n",
    "        product_name = input(\"Enter the product name that you want to order: \")\n",
    "        add_product = input(\"Do you want to add another product? yes/no \").lower()\n",
    "        customer_orders.add(product_name)\n",
    "        if add_product == \"no\":\n",
    "            add_more_product = False\n",
    "    return customer_orders\n"
   ]
  },
  {
   "cell_type": "code",
   "execution_count": 47,
   "id": "573ca3c5",
   "metadata": {},
   "outputs": [
    {
     "data": {
      "text/plain": [
       "{'2', 'mugs'}"
      ]
     },
     "execution_count": 47,
     "metadata": {},
     "output_type": "execute_result"
    }
   ],
   "source": [
    "get_customer_orders()\n"
   ]
  },
  {
   "cell_type": "code",
   "execution_count": 48,
   "id": "7be7fd0e",
   "metadata": {},
   "outputs": [],
   "source": [
    "def update_inventory(inventory: dict, customer_orders: set)-> dict:\n",
    "    inventory = {key: value -1 if key in customer_orders else value for key, value in inventory.items()}\n",
    "    return inventory\n",
    "   "
   ]
  },
  {
   "cell_type": "code",
   "execution_count": 50,
   "id": "4a58da35",
   "metadata": {},
   "outputs": [
    {
     "data": {
      "text/plain": [
       "{'t-shirts': 1, 'mugs': 1, 'hats': 3, 'books': 3, 'keychains': 4}"
      ]
     },
     "execution_count": 50,
     "metadata": {},
     "output_type": "execute_result"
    }
   ],
   "source": [
    "update_inventory(inventory, get_customer_orders())\n"
   ]
  },
  {
   "cell_type": "code",
   "execution_count": 52,
   "id": "07ef7792",
   "metadata": {},
   "outputs": [],
   "source": [
    "def printing_updated_inventory(inventory):\n",
    "    updated_inventory = {key:value for key,value in inventory.items() if value>0}\n",
    "    return updated_inventory"
   ]
  },
  {
   "cell_type": "code",
   "execution_count": 56,
   "id": "f331bdf9",
   "metadata": {},
   "outputs": [
    {
     "data": {
      "text/plain": [
       "{'t-shirts': 1, 'mugs': 2, 'hats': 2, 'books': 2, 'keychains': 4}"
      ]
     },
     "execution_count": 56,
     "metadata": {},
     "output_type": "execute_result"
    }
   ],
   "source": [
    "printing_updated_inventory(update_inventory(inventory, get_customer_orders()))\n"
   ]
  },
  {
   "cell_type": "code",
   "execution_count": 57,
   "id": "4e2f65d9",
   "metadata": {},
   "outputs": [],
   "source": [
    "  \n",
    "# Modify the function get_customer_orders so it prompts the user to enter the number of customer orders and gathers the product names using a loop and user input. Use comprehension.\n",
    "def get_customer_order():\n",
    "    num = int(input(\"Enter the number of customer orders\"))\n",
    "    number_of_customer_order = [input(f\"Enter the item name {item+1}:\") for item in range(num) ]\n",
    "    return number_of_customer_order\n"
   ]
  },
  {
   "cell_type": "code",
   "execution_count": 58,
   "id": "ae866a8e",
   "metadata": {},
   "outputs": [
    {
     "data": {
      "text/plain": [
       "['hats', 'mugs']"
      ]
     },
     "execution_count": 58,
     "metadata": {},
     "output_type": "execute_result"
    }
   ],
   "source": [
    "get_customer_order()\n"
   ]
  },
  {
   "cell_type": "code",
   "execution_count": 59,
   "id": "7f9f2879",
   "metadata": {},
   "outputs": [],
   "source": [
    "# Add a new function to calculate the total price of the customer order. For each product in customer_orders, prompt the user to enter the price of that product. \n",
    "# Use comprehension to calculate the total price. Note: assume that the user can only have 1 unit of each product.\n",
    "def calculate_price_of_customer_order(customer_orders):\n",
    "    total_price = [sum(float(input(f\"Enter the price of the product {item}\")) for item in customer_orders)]\n",
    "    return total_price\n",
    "    "
   ]
  },
  {
   "cell_type": "code",
   "execution_count": null,
   "id": "46040f06",
   "metadata": {},
   "outputs": [
    {
     "name": "stdout",
     "output_type": "stream",
     "text": [
      "[24.0]\n"
     ]
    }
   ],
   "source": [
    "calculate_price_of_customer_order(get_customer_order())\n",
    "print(get_customer_order())"
   ]
  },
  {
   "cell_type": "code",
   "execution_count": 61,
   "id": "329802ec",
   "metadata": {},
   "outputs": [],
   "source": [
    "def calculate_order_statistics(customer_orders: set, products: list):\n",
    "    total_products_ordered = len(customer_orders)\n",
    "    total_products_available = len(products)\n",
    "    percentage_of_unique_products_ordered = (total_products_ordered / total_products_available)*100\n",
    "    return total_products_ordered, percentage_of_unique_products_ordered"
   ]
  },
  {
   "cell_type": "code",
   "execution_count": 62,
   "id": "c2f134fb",
   "metadata": {},
   "outputs": [],
   "source": [
    "def print_order_statistics(order_statistics: tuple):\n",
    "    print(f\"Total products ordered:{order_statistics[0]}\")\n",
    "    print(f\"Percentage of unique products ordered:{order_statistics[1]}\")"
   ]
  },
  {
   "cell_type": "code",
   "execution_count": 64,
   "id": "3c9bf243",
   "metadata": {},
   "outputs": [
    {
     "name": "stdout",
     "output_type": "stream",
     "text": [
      "Total products ordered:2\n",
      "Percentage of unique products ordered:40.0\n"
     ]
    }
   ],
   "source": [
    "print_order_statistics(calculate_order_statistics(get_customer_order(),inventory ))\n"
   ]
  },
  {
   "cell_type": "code",
   "execution_count": 66,
   "id": "341de9ee",
   "metadata": {},
   "outputs": [
    {
     "name": "stdout",
     "output_type": "stream",
     "text": [
      "[24.0]\n",
      "{'t-shirts': 10, 'mugs': 1, 'hats': 1, 'books': 1, 'keychains': 1}\n",
      "['mugs', 'hats']\n",
      "Total products ordered:2\n",
      "Percentage of unique products ordered:40.0\n",
      "{'t-shirts': 10, 'books': 1, 'keychains': 1}\n",
      "[7.0]\n"
     ]
    }
   ],
   "source": [
    "number_of_customer_orders = get_customer_order()\n",
    "total_price_of_the_customer = calculate_price_of_customer_order(number_of_customer_orders)\n",
    "print(total_price_of_the_customer)\n",
    "inventory = initialize_inventory(products)\n",
    "print(inventory)\n",
    "print(number_of_customer_orders )\n",
    "print_order_stats = print_order_statistics(calculate_order_statistics(number_of_customer_orders,inventory ))\n",
    "final_inventory = printing_updated_inventory(update_inventory(inventory, number_of_customer_orders))\n",
    "print(final_inventory)\n",
    "total_price_of_the_customer = calculate_price_of_customer_order(number_of_customer_orders)\n",
    "print(total_price_of_the_customer)"
   ]
  }
 ],
 "metadata": {
  "kernelspec": {
   "display_name": "base",
   "language": "python",
   "name": "python3"
  },
  "language_info": {
   "codemirror_mode": {
    "name": "ipython",
    "version": 3
   },
   "file_extension": ".py",
   "mimetype": "text/x-python",
   "name": "python",
   "nbconvert_exporter": "python",
   "pygments_lexer": "ipython3",
   "version": "3.12.7"
  }
 },
 "nbformat": 4,
 "nbformat_minor": 5
}
